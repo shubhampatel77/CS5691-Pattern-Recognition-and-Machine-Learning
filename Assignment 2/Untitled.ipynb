{
 "cells": [
  {
   "cell_type": "code",
   "execution_count": 1,
   "id": "7a408974",
   "metadata": {},
   "outputs": [],
   "source": [
    "import numpy as np"
   ]
  },
  {
   "cell_type": "code",
   "execution_count": 3,
   "id": "1c8aee7c",
   "metadata": {},
   "outputs": [
    {
     "data": {
      "text/plain": [
       "array([[-0.999 ,  0.634 ,  1.2587],\n",
       "       [-0.997 ,  0.265 ,  2.042 ],\n",
       "       [-0.994 , -0.71  ,  1.4841],\n",
       "       ...,\n",
       "       [ 0.988 ,  0.338 ,  1.2149],\n",
       "       [ 0.994 , -0.431 ,  1.6481],\n",
       "       [ 0.998 ,  0.26  ,  1.5017]])"
      ]
     },
     "execution_count": 3,
     "metadata": {},
     "output_type": "execute_result"
    }
   ],
   "source": [
    "d = np.loadtxt('2d_team_7_train.txt')\n",
    "d\n"
   ]
  }
 ],
 "metadata": {
  "kernelspec": {
   "display_name": "Anaconda (base)",
   "language": "python",
   "name": "anaconda-base"
  },
  "language_info": {
   "codemirror_mode": {
    "name": "ipython",
    "version": 3
   },
   "file_extension": ".py",
   "mimetype": "text/x-python",
   "name": "python",
   "nbconvert_exporter": "python",
   "pygments_lexer": "ipython3",
   "version": "3.9.7"
  }
 },
 "nbformat": 4,
 "nbformat_minor": 5
}
