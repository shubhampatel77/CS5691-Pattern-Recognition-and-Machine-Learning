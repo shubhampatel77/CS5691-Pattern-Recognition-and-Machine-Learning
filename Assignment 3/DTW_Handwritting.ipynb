{
  "cells": [
    {
      "cell_type": "code",
      "execution_count": null,
      "metadata": {
        "id": "Idrr2k1TBcQ_"
      },
      "outputs": [],
      "source": [
        "import numpy as np\n",
        "import os\n",
        "import matplotlib.pyplot as plt"
      ]
    },
    {
      "cell_type": "code",
      "execution_count": null,
      "metadata": {
        "id": "QM13qpZ1Bp8q"
      },
      "outputs": [],
      "source": [
        "def DTW(x, y):\n",
        "\tm = x.shape[0]+1\n",
        "\tn = y.shape[0]+1\n",
        "\tdtw = np.ones((m, n)) * np.inf\n",
        "\tdtw[0,0] = 0\n",
        "\t\n",
        "\tfor i in range(1,m):\n",
        "\t\tfor j in range(1,n):\n",
        "\t\t\tcost = np.linalg.norm(x[i-1, :] - y[j-1, :])\n",
        "\t\t\tpenalty = np.array([dtw[i-1, j-1], dtw[i-1, j], dtw[i, j-1]])\n",
        "\t\t\tdtw[i, j] = penalty.min() + cost\n",
        "\n",
        "\treturn dtw/(m+n)"
      ]
    },
    {
      "cell_type": "code",
      "execution_count": null,
      "metadata": {
        "id": "CVVe5uyNBvbF"
      },
      "outputs": [],
      "source": [
        "def read_data(dataset, type, filetype):\n",
        "\tcurr = os.getcwd()\n",
        "\tpath = f\"{curr}/{dataset}/{type}\"\n",
        "\tos.chdir(path)\n",
        "\n",
        "\tdataList = []\n",
        "\tfiles = [file for file in os.listdir() if file.endswith(filetype)]\n",
        "\n",
        "\tfor file in files:\n",
        "\t\tdataList.append(np.genfromtxt(file, delimiter=' ', dtype=float)[1:].reshape(-1,2))\n",
        "\tos.chdir(curr)\n",
        "\treturn dataList"
      ]
    },
    {
      "cell_type": "code",
      "execution_count": null,
      "metadata": {
        "id": "SkhqK0ZrBnVi"
      },
      "outputs": [],
      "source": [
        "train = []\n",
        "dev = []\n",
        "\n",
        "dataset = ['a', 'bA', 'dA', 'lA', 'tA']\n",
        "\n",
        "for i in dataset:\n",
        "\ttrain.append(read_data(i, 'train', '.txt'))\n",
        "\tdev.append(read_data(i, 'dev', '.txt'))\n"
      ]
    },
    {
      "cell_type": "code",
      "execution_count": null,
      "metadata": {
        "id": "rLWzUbXPEo-J"
      },
      "outputs": [],
      "source": []
    }
  ],
  "metadata": {
    "colab": {
      "name": "DTW_Handwritting.ipynb",
      "provenance": []
    },
    "kernelspec": {
      "display_name": "Python 3",
      "name": "python3"
    },
    "language_info": {
      "name": "python"
    }
  },
  "nbformat": 4,
  "nbformat_minor": 0
}
