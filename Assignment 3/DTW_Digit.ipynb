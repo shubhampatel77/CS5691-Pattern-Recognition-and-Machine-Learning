{
  "cells": [
    {
      "cell_type": "code",
      "execution_count": 1,
      "metadata": {
        "id": "KvocRBbT9nn0"
      },
      "outputs": [],
      "source": [
        "import numpy as np\n",
        "import statistics\n",
        "from statistics import mode\n",
        "import os"
      ]
    },
    {
      "cell_type": "code",
      "execution_count": 11,
      "metadata": {},
      "outputs": [],
      "source": [
        "os.chdir('/Users/shubhampatel/Desktop/PRML/Assignment 3/Data/Isolated Digits')\n"
      ]
    },
    {
      "cell_type": "code",
      "execution_count": 2,
      "metadata": {
        "id": "z9S1iuXc9wtK"
      },
      "outputs": [],
      "source": [
        "def DTW(x, y):\n",
        "\tm = x.shape[0]+1\n",
        "\tn = y.shape[0]+1\n",
        "\tdtw = np.ones((m, n)) * np.inf\n",
        "\tdtw[0,0] = 0\n",
        "\t\n",
        "\tfor i in range(1,m):\n",
        "\t\tfor j in range(1,n):\n",
        "\t\t\tcost = np.linalg.norm(x[i-1, :] - y[j-1, :])\n",
        "\t\t\tpenalty = np.array([dtw[i-1, j-1], dtw[i-1, j], dtw[i, j-1]])\n",
        "\t\t\tdtw[i, j] = penalty.min() + cost\n",
        "\n",
        "\treturn dtw"
      ]
    },
    {
      "cell_type": "code",
      "execution_count": 3,
      "metadata": {
        "id": "Rs8Wb0zW90sO"
      },
      "outputs": [],
      "source": [
        "def read_data(dataset, type, filetype):\n",
        "\tcurr = os.getcwd()\n",
        "\tpath = f\"{curr}/{dataset}/{type}\"\n",
        "\tos.chdir(path)\n",
        "\n",
        "\tdataList = []\n",
        "\tfiles = [file for file in os.listdir() if file.endswith(filetype)]\n",
        "\n",
        "\tfor file in files:\n",
        "\t\tdataList.append(np.genfromtxt(file, delimiter=' ', skip_header=1, dtype=float))\n",
        "\tos.chdir(curr)\n",
        "\treturn dataList"
      ]
    },
    {
      "cell_type": "code",
      "execution_count": 12,
      "metadata": {
        "id": "JtCkYV8h-QfN"
      },
      "outputs": [],
      "source": [
        "train_2 = read_data('2', 'train', '.mfcc')\n",
        "dev_2 = read_data('2', 'dev', '.mfcc')\n",
        "train_3 = read_data('3', 'train', '.mfcc')\n",
        "dev_3 = read_data('3', 'dev', '.mfcc')\n",
        "train_4 = read_data('4', 'train', '.mfcc')\n",
        "dev_4 = read_data('4', 'dev', '.mfcc')\n",
        "train_5 = read_data('5', 'train', '.mfcc')\n",
        "dev_5 = read_data('5', 'dev', '.mfcc')\n",
        "train_z = read_data('z', 'train', '.mfcc')\n",
        "dev_z = read_data('z', 'dev', '.mfcc')"
      ]
    },
    {
      "cell_type": "code",
      "execution_count": 13,
      "metadata": {
        "id": "MShsF3k4-ZsA"
      },
      "outputs": [],
      "source": [
        "C = 25\n",
        "\n",
        "class_2 = []\n",
        "class_3 = []\n",
        "class_4 = []\n",
        "class_5 = []\n",
        "class_z = []"
      ]
    },
    {
      "cell_type": "code",
      "execution_count": 14,
      "metadata": {
        "id": "-CZWQV63-ajo"
      },
      "outputs": [],
      "source": [
        "for dev in dev_2:\n",
        "\tcost = []\n",
        "\tfor train in train_2:\n",
        "\t\tcost.append([DTW(dev,train)[-1,-1], 1])\n",
        "\tfor train in train_3:\n",
        "\t\tcost.append([DTW(dev,train)[-1,-1], 2])\n",
        "\tfor train in train_4:\n",
        "\t\tcost.append([DTW(dev,train)[-1,-1], 3])\n",
        "\tfor train in train_5:\n",
        "\t\tcost.append([DTW(dev,train)[-1,-1], 4])\n",
        "\tfor train in train_z:\n",
        "\t\tcost.append([DTW(dev,train)[-1,-1], 5])\n",
        "\tcost = np.array(cost)\n",
        "\tidx = cost[:,0].argsort()\n",
        "\tcost = cost[idx]\n",
        "\tclass_2.append(mode(cost.reshape(-1,2)[:C,1]))"
      ]
    },
    {
      "cell_type": "code",
      "execution_count": null,
      "metadata": {
        "colab": {
          "base_uri": "https://localhost:8080/"
        },
        "id": "UmiNifjDAprP",
        "outputId": "25aaa9c5-38f6-4ab0-8a32-55fe279895a4"
      },
      "outputs": [
        {
          "name": "stdout",
          "output_type": "stream",
          "text": [
            "[1.0, 1.0, 1.0, 1.0, 1.0, 1.0, 1.0, 1.0, 1.0, 1.0, 1.0, 1.0]\n"
          ]
        }
      ],
      "source": [
        "print(class_2)"
      ]
    },
    {
      "cell_type": "code",
      "execution_count": null,
      "metadata": {
        "id": "WqmxfNBi-dNR"
      },
      "outputs": [],
      "source": [
        "for dev in dev_3:\n",
        "\tcost = []\n",
        "\tfor train in train_2:\n",
        "\t\tcost.append([DTW(dev,train)[-1,-1], 1])\n",
        "\tfor train in train_3:\n",
        "\t\tcost.append([DTW(dev,train)[-1,-1], 2])\n",
        "\tfor train in train_4:\n",
        "\t\tcost.append([DTW(dev,train)[-1,-1], 3])\n",
        "\tfor train in train_5:\n",
        "\t\tcost.append([DTW(dev,train)[-1,-1], 4])\n",
        "\tfor train in train_z:\n",
        "\t\tcost.append([DTW(dev,train)[-1,-1], 5])\n",
        "\tcost = np.array(cost)\n",
        "\tidx = cost[:,0].argsort()\n",
        "\tcost = cost[idx]\n",
        "\tclass_3.append(mode(cost.reshape(-1,2)[:C,1]))"
      ]
    },
    {
      "cell_type": "code",
      "execution_count": null,
      "metadata": {
        "colab": {
          "base_uri": "https://localhost:8080/"
        },
        "id": "PYMMJEaFCXMk",
        "outputId": "37588e66-db50-4ea0-9eda-e8135a244eb8"
      },
      "outputs": [
        {
          "name": "stdout",
          "output_type": "stream",
          "text": [
            "[2.0, 2.0, 2.0, 2.0, 2.0, 2.0, 1.0, 2.0, 2.0, 2.0, 2.0, 2.0]\n"
          ]
        }
      ],
      "source": [
        "print(class_3)"
      ]
    },
    {
      "cell_type": "code",
      "execution_count": null,
      "metadata": {
        "id": "R6ZAOHac-gu-"
      },
      "outputs": [],
      "source": [
        "for dev in dev_4:\n",
        "\tcost = []\n",
        "\tfor train in train_2:\n",
        "\t\tcost.append([DTW(dev,train)[-1,-1], 1])\n",
        "\tfor train in train_3:\n",
        "\t\tcost.append([DTW(dev,train)[-1,-1], 2])\n",
        "\tfor train in train_4:\n",
        "\t\tcost.append([DTW(dev,train)[-1,-1], 3])\n",
        "\tfor train in train_5:\n",
        "\t\tcost.append([DTW(dev,train)[-1,-1], 4])\n",
        "\tfor train in train_z:\n",
        "\t\tcost.append([DTW(dev,train)[-1,-1], 5])\n",
        "\tcost = np.array(cost)\n",
        "\tidx = cost[:,0].argsort()\n",
        "\tcost = cost[idx]\n",
        "\tclass_4.append(mode(cost.reshape(-1,2)[:C,1]))"
      ]
    },
    {
      "cell_type": "code",
      "execution_count": null,
      "metadata": {
        "colab": {
          "base_uri": "https://localhost:8080/"
        },
        "id": "zh0iiQwpCaRs",
        "outputId": "c974fb92-d5b4-443a-d07f-66517bcf83fc"
      },
      "outputs": [
        {
          "name": "stdout",
          "output_type": "stream",
          "text": [
            "[3.0, 3.0, 3.0, 3.0, 3.0, 3.0, 3.0, 3.0, 3.0, 3.0, 3.0, 3.0]\n"
          ]
        }
      ],
      "source": [
        "print(class_4)"
      ]
    },
    {
      "cell_type": "code",
      "execution_count": null,
      "metadata": {
        "id": "EtHk_kmu-iv2"
      },
      "outputs": [],
      "source": [
        "for dev in dev_5:\n",
        "\tcost = []\n",
        "\tfor train in train_2:\n",
        "\t\tcost.append([DTW(dev,train)[-1,-1], 1])\n",
        "\tfor train in train_3:\n",
        "\t\tcost.append([DTW(dev,train)[-1,-1], 2])\n",
        "\tfor train in train_4:\n",
        "\t\tcost.append([DTW(dev,train)[-1,-1], 3])\n",
        "\tfor train in train_5:\n",
        "\t\tcost.append([DTW(dev,train)[-1,-1], 4])\n",
        "\tfor train in train_z:\n",
        "\t\tcost.append([DTW(dev,train)[-1,-1], 5])\n",
        "\tcost = np.array(cost)\n",
        "\tidx = cost[:,0].argsort()\n",
        "\tcost = cost[idx]\n",
        "\tclass_5.append(mode(cost.reshape(-1,2)[:C,1]))"
      ]
    },
    {
      "cell_type": "code",
      "execution_count": null,
      "metadata": {
        "colab": {
          "base_uri": "https://localhost:8080/"
        },
        "id": "LQwaF3dSIeog",
        "outputId": "3b69c4a1-ee78-41fa-c00c-4499806f9264"
      },
      "outputs": [
        {
          "name": "stdout",
          "output_type": "stream",
          "text": [
            "[4.0, 4.0, 4.0, 4.0, 4.0, 4.0, 4.0, 4.0, 4.0, 4.0, 4.0, 3.0]\n"
          ]
        }
      ],
      "source": [
        "print(class_5)"
      ]
    },
    {
      "cell_type": "code",
      "execution_count": null,
      "metadata": {
        "id": "o5MKuagV-mxu"
      },
      "outputs": [],
      "source": [
        "for dev in dev_z:\n",
        "\tcost = []\n",
        "\tfor train in train_2:\n",
        "\t\tcost.append([DTW(dev,train)[-1,-1], 1])\n",
        "\tfor train in train_3:\n",
        "\t\tcost.append([DTW(dev,train)[-1,-1], 2])\n",
        "\tfor train in train_4:\n",
        "\t\tcost.append([DTW(dev,train)[-1,-1], 3])\n",
        "\tfor train in train_5:\n",
        "\t\tcost.append([DTW(dev,train)[-1,-1], 4])\n",
        "\tfor train in train_z:\n",
        "\t\tcost.append([DTW(dev,train)[-1,-1], 5])\n",
        "\tcost = np.array(cost)\n",
        "\tidx = cost[:,0].argsort()\n",
        "\tcost = cost[idx]\n",
        "\tclass_z.append(mode(cost.reshape(-1,2)[:C,1]))"
      ]
    },
    {
      "cell_type": "code",
      "execution_count": null,
      "metadata": {
        "colab": {
          "base_uri": "https://localhost:8080/"
        },
        "id": "7sDSJbxZIhQh",
        "outputId": "091de34a-3748-483f-ac7f-ee5604874b12"
      },
      "outputs": [
        {
          "name": "stdout",
          "output_type": "stream",
          "text": [
            "[5.0, 5.0, 5.0, 5.0, 5.0, 5.0, 1.0, 5.0, 5.0, 5.0, 5.0, 5.0]\n",
            "11\n"
          ]
        }
      ],
      "source": [
        "print(class_z)\n",
        "temp = np.array(class_z)"
      ]
    },
    {
      "cell_type": "code",
      "execution_count": null,
      "metadata": {
        "colab": {
          "base_uri": "https://localhost:8080/"
        },
        "id": "mMlFv6rrqAxo",
        "outputId": "e9849693-067b-4a4f-df11-ddce9b186a4e"
      },
      "outputs": [
        {
          "name": "stdout",
          "output_type": "stream",
          "text": [
            "[[12.  0.  0.  0.  0.]\n",
            " [ 1. 11.  0.  0.  0.]\n",
            " [ 0.  0. 12.  0.  0.]\n",
            " [ 0.  0.  1. 11.  0.]\n",
            " [ 1.  0.  0.  0. 11.]]\n"
          ]
        }
      ],
      "source": [
        "CMatrix = np.zeros((5,5))\n",
        "a = []\n",
        "\n",
        "for i in range(1,6):\n",
        "  a.append(class_2.count(i))\n",
        "CMatrix[0] = a\n",
        "a = []\n",
        "for i in range(1,6):\n",
        "  a.append(class_3.count(i))\n",
        "CMatrix[1] = a\n",
        "a = []\n",
        "for i in range(1,6):\n",
        "  a.append(class_4.count(i))\n",
        "CMatrix[2] = a\n",
        "a = []\n",
        "for i in range(1,6):\n",
        "  a.append(class_5.count(i))\n",
        "CMatrix[3] = a\n",
        "a = []\n",
        "for i in range(1,6):\n",
        "  a.append(class_z.count(i))\n",
        "CMatrix[4] = a\n",
        "print(CMatrix)\n",
        "\n"
      ]
    }
  ],
  "metadata": {
    "colab": {
      "collapsed_sections": [],
      "name": "DTW_Digit.ipynb",
      "provenance": []
    },
    "kernelspec": {
      "display_name": "Anaconda (base)",
      "language": "python",
      "name": "anaconda-base"
    },
    "language_info": {
      "codemirror_mode": {
        "name": "ipython",
        "version": 3
      },
      "file_extension": ".py",
      "mimetype": "text/x-python",
      "name": "python",
      "nbconvert_exporter": "python",
      "pygments_lexer": "ipython3",
      "version": "3.9.7"
    }
  },
  "nbformat": 4,
  "nbformat_minor": 0
}
