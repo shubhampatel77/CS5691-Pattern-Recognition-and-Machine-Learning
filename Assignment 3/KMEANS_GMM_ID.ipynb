{
  "cells": [
    {
      "cell_type": "code",
      "execution_count": 1,
      "metadata": {
        "id": "KqVPi-mG6BZt"
      },
      "outputs": [],
      "source": [
        "import numpy as np\n",
        "import random\n",
        "import os"
      ]
    },
    {
      "cell_type": "code",
      "execution_count": 2,
      "metadata": {
        "colab": {
          "base_uri": "https://localhost:8080/",
          "height": 35
        },
        "id": "AASibmdCrtGm",
        "outputId": "0abf988f-6a87-4a0d-d69f-472dd4c9d828"
      },
      "outputs": [
        {
          "data": {
            "text/plain": [
              "'/Users/shubhampatel/Desktop/PRML/Assignment 3/Data'"
            ]
          },
          "execution_count": 2,
          "metadata": {},
          "output_type": "execute_result"
        }
      ],
      "source": [
        "os.chdir('/Users/shubhampatel/Desktop/PRML/Assignment 3/Data')\n",
        "os.getcwd()"
      ]
    },
    {
      "cell_type": "code",
      "execution_count": 59,
      "metadata": {
        "id": "a2QJvg7Z56tR"
      },
      "outputs": [],
      "source": [
        "def Kmeans(x, μ, K):\n",
        "\tn_tot, d = x.shape\n",
        "\terr = []\n",
        "\tN = np.zeros(K)\n",
        "\tdistribution = np.zeros([n_tot, K])\n",
        "\tfor n in range(n_tot):\n",
        "\t\tfor k in range(K):\n",
        "\t\t\t\terr.append(np.linalg.norm(μ[k]-x[n]))\n",
        "\t\terr = np.array(err)\n",
        "\t\ti = np.argmin(err)\n",
        "\t\tN[i] += 1\n",
        "\t\tdistribution[n, i] = 1\n",
        "\t\terr = []\n",
        "\n",
        "\tμ_new = np.zeros([K, d])\n",
        "\tfor k in range(K):\n",
        "\t\tfor n in range(n_tot):\n",
        "\t\t\tμ_new[k, :] += x[n]*distribution[n, k]\n",
        "\t\tμ_new[k, :] /= N[k]\n",
        "\n",
        "\tΣ_new = np.zeros([K, d, d])\n",
        "\tdistortion = 0\n",
        "\tfor k in range(K):\n",
        "\t\tfor n in range(n_tot):\n",
        "\t\t\tΣ_new[k, :, :] += distribution[n, k]*np.eye(d)*((x[n]-μ_new[k]).reshape(d,1)@(x[n]-μ_new[k]).reshape(1,d))\n",
        "\t\t\tdistortion += distribution[n, k]*np.linalg.norm(μ_new[k]-x[n])\n",
        "\t\tΣ_new[k, :, :] /= N[k]\n",
        "\n",
        "\treturn (N, μ_new, Σ_new, distortion)"
      ]
    },
    {
      "cell_type": "code",
      "execution_count": 64,
      "metadata": {
        "id": "eKoWt-Yh6E0p"
      },
      "outputs": [],
      "source": [
        "def gaussian(x, μ, Σ):\n",
        "\td = len(μ)\n",
        "\texponent = np.exp(-0.5*(x-μ)@np.linalg.inv(Σ)@(x-μ).T)\n",
        "\tdet = 1/(np.linalg.det(Σ))**0.5\n",
        "\tgdf = 1/(2*np.pi)**(d/2)*det*exponent\n",
        "\treturn gdf\n",
        "\n",
        "def GMM(x, π, μ, Σ, K):\n",
        "\tn_tot, d = x.shape\n",
        "\tr = np.zeros((n_tot, K))\n",
        "\tfor n in range(n_tot):\n",
        "\t\tSum = 0\n",
        "\t\tfor k in range(K):\n",
        "\t\t\tSum += π[k]*gaussian(x[n], μ[k], Σ[k])\n",
        "\t\tfor k in range(K):\n",
        "\t\t\tr[n, k] = (π[k]*gaussian(x[n], μ[k], Σ[k]))/Sum\n",
        "\n",
        "\tN = np.zeros(K)\n",
        "\tπ_new = np.zeros(K)\n",
        "\tfor k in range(K):\n",
        "\t\tfor n in range(n_tot):\n",
        "\t\t\tN[k] += r[n, k]\n",
        "\t\tπ_new[k] = N[k]/n_tot\n",
        "\t# print(N)\n",
        "\tμ_new = np.zeros((K, d))\n",
        "\tfor k in range(K):\n",
        "\t\tfor n in range(n_tot):\n",
        "\t\t\tμ_new[k, :] += r[n, k]*x[n]\n",
        "\t\tμ_new[k, :] /= N[k]\n",
        "\n",
        "\tΣ_new = np.zeros([K, d, d])\n",
        "\tdistortion = 0\n",
        "\tfor k in range(K):\n",
        "\t\tfor n in range(n_tot):\n",
        "\t\t\tΣ_new[k, :, :] += r[n, k]*np.eye(d)*((x[n]-μ_new[k]).reshape(d,1)@(x[n]-μ_new[k]).reshape(1,d))\n",
        "\t\t\tdistortion += r[n, k]*np.linalg.norm(μ_new[k]-x[n])\n",
        "\t\tΣ_new[k, :, :] /= N[k]\n",
        "#     for K in np.arange(K):\n",
        "#         Σ_new[K, :, :] = np.eye(d)*Σ_new[K, :, :]\n",
        "\n",
        "\treturn (π_new, μ_new, Σ_new, distortion)"
      ]
    },
    {
      "cell_type": "code",
      "execution_count": 5,
      "metadata": {
        "id": "K04l-nwP6P2b"
      },
      "outputs": [],
      "source": [
        "def read_data(dataset, type):\n",
        "\tcurr = os.getcwd()\n",
        "\tpath = f\"{curr}/Image Dataset/{dataset}/{type}\"\n",
        "\tos.chdir(path)\n",
        "\n",
        "\tdataList = []\n",
        "\tfiles = [file for file in os.listdir()]\n",
        "\n",
        "\tfor file in files:\n",
        "\t\tdataList.append(np.genfromtxt(file, delimiter=' ', dtype=float))\n",
        "\tos.chdir(curr)\n",
        "\treturn np.array(dataList)"
      ]
    },
    {
      "cell_type": "code",
      "execution_count": 6,
      "metadata": {
        "id": "hxd4ZPCh2al5"
      },
      "outputs": [],
      "source": [
        "train_coast = read_data('coast', 'train')\n",
        "dev_coast = read_data('coast', 'dev')\n",
        "train_forest = read_data('forest', 'train')\n",
        "dev_forest = read_data('forest', 'dev')\n",
        "train_highway = read_data('highway', 'train')\n",
        "dev_highway = read_data('highway', 'dev')\n",
        "train_mountain = read_data('mountain', 'train')\n",
        "dev_mountain = read_data('mountain', 'dev')\n",
        "train_opencountry = read_data('opencountry', 'train')\n",
        "dev_opencountry = read_data('opencountry', 'dev')"
      ]
    },
    {
      "cell_type": "code",
      "execution_count": 7,
      "metadata": {
        "id": "YZ0gnPdH356i"
      },
      "outputs": [],
      "source": [
        "C = []\n",
        "\n",
        "C1 = train_coast.flatten().reshape(-1, 23)\n",
        "C.append((C1 - C1.min(axis = 0))/(C1.max(axis = 0)-C1.min(axis = 0)))\n",
        "C2 = train_forest.flatten().reshape(-1, 23)\n",
        "C.append((C2 - C2.min(axis = 0))/(C2.max(axis = 0)-C2.min(axis = 0)))\n",
        "C3 = train_highway.flatten().reshape(-1, 23)\n",
        "C.append((C3 - C3.min(axis = 0))/(C3.max(axis = 0)-C3.min(axis = 0)))\n",
        "C4 = train_mountain.flatten().reshape(-1, 23)\n",
        "C.append((C4 - C4.min(axis = 0))/(C4.max(axis = 0)-C4.min(axis = 0)))\n",
        "C5 = train_opencountry.flatten().reshape(-1, 23)\n",
        "C.append((C5 - C5.min(axis = 0))/(C5.max(axis = 0)-C5.min(axis = 0)))"
      ]
    },
    {
      "cell_type": "code",
      "execution_count": 42,
      "metadata": {},
      "outputs": [
        {
          "data": {
            "text/plain": [
              "0.45568908558303745"
            ]
          },
          "execution_count": 42,
          "metadata": {},
          "output_type": "execute_result"
        }
      ],
      "source": [
        "C[0].mean()"
      ]
    },
    {
      "cell_type": "code",
      "execution_count": null,
      "metadata": {},
      "outputs": [],
      "source": []
    },
    {
      "cell_type": "code",
      "execution_count": 8,
      "metadata": {
        "id": "ZHPuwPz138YD"
      },
      "outputs": [],
      "source": [
        "def stats(x):\n",
        "\tμ = x.mean(0)\n",
        "\tΣ = np.cov(x, rowvar=False)\n",
        "\treturn (μ, Σ)\n",
        "\n",
        "def initial(x, K):\n",
        "\tn, d = x.shape\n",
        "\tμ_initial = np.zeros([K, d])\n",
        "\tΣ_initial = np.zeros([K, d, d])\n",
        "\tfor k in range(K):\n",
        "\t\tindex = random.randint(0, n)\n",
        "\t\tμ_initial[k,:] = x[index]\n",
        "\t\tΣ_initial[k,:,:] = stats(x)[1]\n",
        "\treturn (μ_initial, Σ_initial)"
      ]
    },
    {
      "cell_type": "code",
      "execution_count": 162,
      "metadata": {},
      "outputs": [],
      "source": [
        "def ROC(xtest, y_true, P):\n",
        "    \n",
        "    TPR = []; FPR = []\n",
        "     \n",
        "    threshold_min, threshold_max = np.log10(P).min(), np.log10(P).max()\n",
        "    threshold_vec = np.linspace(threshold_min, threshold_max, dtype=float, num=100)\n",
        "    for t in threshold_vec:\n",
        "        TP, FP = 0, 0\n",
        "        TN, FN = 0, 0\n",
        "        threshold = 10**(t)\n",
        "        y_predict = []\n",
        "        for i in range(len(xtest)):\n",
        "            if P[i,0]/(P[i,:])>=threshold:\n",
        "                y_predict.append(1)\n",
        "            else:\n",
        "                y_predict.append(2)\n",
        "        y_predict = np.array(y_predict)\n",
        "\n",
        "        for i in range(len(xtest)):\n",
        "            if y_predict[i] == 1 and y_true[i] == 1:\n",
        "                TP += 1\n",
        "            elif y_predict[i] == 1 and y_true[i] == 2:\n",
        "                FP += 1\n",
        "            elif y_predict[i] == 2 and y_true[i] == 1:\n",
        "                FN += 1\n",
        "            else:\n",
        "                TN += 1\n",
        "\n",
        "        TPR.append(TP/(TP+FN))\n",
        "        FPR.append(FP/(FP+TN))\n",
        "    return (TPR, FPR)"
      ]
    },
    {
      "cell_type": "code",
      "execution_count": 144,
      "metadata": {
        "colab": {
          "base_uri": "https://localhost:8080/"
        },
        "id": "RVagIEUG4CeM",
        "outputId": "02f0c767-9560-40a4-a334-547cb8a78162"
      },
      "outputs": [],
      "source": [
        "## K Keans implementation\n",
        "K = 10\n",
        "μ = []\n",
        "Σ = []\n",
        "N = []\n",
        "dk = []\n",
        "\n",
        "for c in range(5):\n",
        "\tμ_initial, Σ_initial = initial(C[c], K)\n",
        "\tμ.append(μ_initial)\n",
        "\tΣ.append(Σ_initial)\n",
        "\n",
        "μ = np.array(μ)\n",
        "Σ = np.array(Σ)\n",
        "\n",
        "for c in range(5):\n",
        "\tN_c, μ[c], Σ[c], dk_c = Kmeans(C[c], μ[c], K)\n",
        "\tN.append(N_c)\n",
        "\tdk.append(dk_c)\n",
        "\n",
        "N = np.array(N)\n",
        "dk = np.array(dk)\n",
        "\n",
        "for c in range(5):\n",
        "\tfor j in np.arange(1, 15):\n",
        "\t\tN[c], μ[c], Σ[c], dk[c] = Kmeans(C[c], μ[c], K)\n",
        "  "
      ]
    },
    {
      "cell_type": "code",
      "execution_count": 145,
      "metadata": {},
      "outputs": [],
      "source": [
        "π = []\n",
        "dg = []\n",
        "for c in range(5):\n",
        "\tπ.append(np.zeros(K))\n",
        "\n",
        "π = np.array(π)\n",
        "\n",
        "for c in range(5):\n",
        "\tfor k in range(K):\t\n",
        "\t\tπ[c][k] = N[c][k]/len(C[c])"
      ]
    },
    {
      "cell_type": "code",
      "execution_count": 146,
      "metadata": {
        "id": "1KfxnfBfIGrF"
      },
      "outputs": [],
      "source": [
        "##GMM implementation\n",
        "π = []\n",
        "dg = []\n",
        "for c in range(5):\n",
        "\tπ.append(np.zeros(K))\n",
        "\n",
        "π = np.array(π)\n",
        "\n",
        "for c in range(5):\n",
        "\tfor k in range(K):\t\n",
        "\t\tπ[c][k] = N[c][k]/len(C[c])\n",
        "\n",
        "for c in range(5):\n",
        "\tπ[c], μ[c], Σ[c], dg_c = GMM(C[c], π[c], μ[c], Σ[c], K)\n",
        "\tdg.append(dg_c)\n",
        "\n",
        "dg = np.array(dg)\n",
        "\n",
        "for c in range(5):\n",
        "\tfor j in range(2):\n",
        "\t\tπ[c], μ[c], Σ[c], dg[c] = GMM(C[c], π[c], μ[c], Σ[c], K)"
      ]
    },
    {
      "cell_type": "code",
      "execution_count": 50,
      "metadata": {
        "colab": {
          "base_uri": "https://localhost:8080/"
        },
        "id": "0yfTV7Ey_We_",
        "outputId": "bbf5a654-ccc3-4f46-f22b-e1986be0da12"
      },
      "outputs": [],
      "source": [
        "C_d = []\n",
        "\n",
        "C1_d = dev_coast.flatten().reshape(-1, 23)\n",
        "C_d.append((C1_d - C1_d.min(axis = 0))/(C1_d.max(axis = 0)-C1_d.min(axis = 0)))\n",
        "C2_d = dev_forest.flatten().reshape(-1, 23)\n",
        "C_d.append((C2_d - C2_d.min(axis = 0))/(C2_d.max(axis = 0)-C2_d.min(axis = 0)))\n",
        "C3_d = dev_highway.flatten().reshape(-1, 23)\n",
        "C_d.append((C3_d - C3_d.min(axis = 0))/(C3_d.max(axis = 0)-C3_d.min(axis = 0)))\n",
        "C4_d = dev_mountain.flatten().reshape(-1, 23)\n",
        "C_d.append((C4_d - C4_d.min(axis = 0))/(C4_d.max(axis = 0)-C4_d.min(axis = 0)))\n",
        "C5_d = dev_opencountry.flatten().reshape(-1, 23)\n",
        "C_d.append((C5_d - C5_d.min(axis = 0))/(C5_d.max(axis = 0)-C5_d.min(axis = 0)))"
      ]
    },
    {
      "cell_type": "code",
      "execution_count": 46,
      "metadata": {},
      "outputs": [
        {
          "data": {
            "text/plain": [
              "(2628, 23)"
            ]
          },
          "execution_count": 46,
          "metadata": {},
          "output_type": "execute_result"
        }
      ],
      "source": [
        "C_d[0].shape"
      ]
    },
    {
      "cell_type": "code",
      "execution_count": 161,
      "metadata": {},
      "outputs": [
        {
          "data": {
            "text/plain": [
              "(5, 10, 23, 23)"
            ]
          },
          "execution_count": 161,
          "metadata": {},
          "output_type": "execute_result"
        }
      ],
      "source": [
        "Σ.shape"
      ]
    },
    {
      "cell_type": "code",
      "execution_count": 57,
      "metadata": {},
      "outputs": [],
      "source": [
        "from scipy.stats import multivariate_normal"
      ]
    },
    {
      "cell_type": "code",
      "execution_count": null,
      "metadata": {},
      "outputs": [],
      "source": [
        "D = []\n",
        "\n",
        "D1 = dev_coast.flatten().reshape(-1, 23)\n",
        "D.append((D1 - D1.min(axis = 0))/(D1.max(axis = 0)-D1.min(axis = 0)))\n",
        "D2 = dev_forest.flatten().reshape(-1, 23)\n",
        "D.append((D2 - D2.min(axis = 0))/(D2.max(axis = 0)-D2.min(axis = 0)))\n",
        "D3 = dev_highway.flatten().reshape(-1, 23)\n",
        "D.append((D3 - D3.min(axis = 0))/(D3.max(axis = 0)-D3.min(axis = 0)))\n",
        "D4 = dev_mountain.flatten().reshape(-1, 23)\n",
        "D.append((D4 - D4.min(axis = 0))/(D4.max(axis = 0)-D4.min(axis = 0)))\n",
        "D5 = dev_opencountry.flatten().reshape(-1, 23)\n",
        "D.append((D5 - D5.min(axis = 0))/(D5.max(axis = 0)-D5.min(axis = 0)))"
      ]
    },
    {
      "cell_type": "code",
      "execution_count": 164,
      "metadata": {},
      "outputs": [
        {
          "data": {
            "text/plain": [
              "(2628, 5)"
            ]
          },
          "execution_count": 164,
          "metadata": {},
          "output_type": "execute_result"
        }
      ],
      "source": [
        "prediction.shape"
      ]
    },
    {
      "cell_type": "code",
      "execution_count": 163,
      "metadata": {
        "colab": {
          "base_uri": "https://localhost:8080/",
          "height": 1000
        },
        "id": "awfky52P4Eza",
        "outputId": "0d9d40a9-bf37-4287-a06d-bbbaa2f695ae"
      },
      "outputs": [
        {
          "ename": "IndexError",
          "evalue": "index 2628 is out of bounds for axis 0 with size 2628",
          "output_type": "error",
          "traceback": [
            "\u001b[0;31m---------------------------------------------------------------------------\u001b[0m",
            "\u001b[0;31mIndexError\u001b[0m                                Traceback (most recent call last)",
            "\u001b[0;32m/var/folders/4y/nn0fgj3n78gbhc8c7n171c340000gn/T/ipykernel_1152/660002592.py\u001b[0m in \u001b[0;36m<module>\u001b[0;34m\u001b[0m\n\u001b[1;32m     30\u001b[0m     \u001b[0mclass_count\u001b[0m \u001b[0;34m=\u001b[0m \u001b[0mnp\u001b[0m\u001b[0;34m.\u001b[0m\u001b[0mzeros\u001b[0m\u001b[0;34m(\u001b[0m\u001b[0;36m5\u001b[0m\u001b[0;34m)\u001b[0m\u001b[0;34m\u001b[0m\u001b[0;34m\u001b[0m\u001b[0m\n\u001b[1;32m     31\u001b[0m     \u001b[0;32mfor\u001b[0m \u001b[0mj\u001b[0m \u001b[0;32min\u001b[0m \u001b[0mrange\u001b[0m\u001b[0;34m(\u001b[0m\u001b[0;36m36\u001b[0m\u001b[0;34m)\u001b[0m\u001b[0;34m:\u001b[0m\u001b[0;34m\u001b[0m\u001b[0;34m\u001b[0m\u001b[0m\n\u001b[0;32m---> 32\u001b[0;31m       \u001b[0mclass_count\u001b[0m\u001b[0;34m[\u001b[0m\u001b[0mint\u001b[0m\u001b[0;34m(\u001b[0m\u001b[0mprediction\u001b[0m\u001b[0;34m[\u001b[0m\u001b[0mcount\u001b[0m\u001b[0;34m,\u001b[0m \u001b[0mc\u001b[0m\u001b[0;34m]\u001b[0m\u001b[0;34m)\u001b[0m\u001b[0;34m]\u001b[0m \u001b[0;34m+=\u001b[0m \u001b[0;36m1\u001b[0m\u001b[0;34m\u001b[0m\u001b[0;34m\u001b[0m\u001b[0m\n\u001b[0m\u001b[1;32m     33\u001b[0m       \u001b[0mcount\u001b[0m \u001b[0;34m+=\u001b[0m \u001b[0;36m1\u001b[0m\u001b[0;34m\u001b[0m\u001b[0;34m\u001b[0m\u001b[0m\n\u001b[1;32m     34\u001b[0m     \u001b[0mfinal\u001b[0m\u001b[0;34m[\u001b[0m\u001b[0mi\u001b[0m\u001b[0;34m,\u001b[0m \u001b[0mc\u001b[0m\u001b[0;34m]\u001b[0m \u001b[0;34m=\u001b[0m \u001b[0mnp\u001b[0m\u001b[0;34m.\u001b[0m\u001b[0margmax\u001b[0m\u001b[0;34m(\u001b[0m\u001b[0mclass_count\u001b[0m\u001b[0;34m)\u001b[0m\u001b[0;34m\u001b[0m\u001b[0;34m\u001b[0m\u001b[0m\n",
            "\u001b[0;31mIndexError\u001b[0m: index 2628 is out of bounds for axis 0 with size 2628"
          ]
        }
      ],
      "source": [
        "## Confusion Matrix\n",
        "\n",
        "prediction = np.zeros((C_d[0].shape[0], 5))\n",
        "score = np.zeros((C_d[0].shape[0], 5))\n",
        "\n",
        "for j in range(5):\n",
        "  for i in range(C_d[0].shape[0]):\n",
        "    pt = C_d[0][i]\n",
        "    P = np.zeros(5)\n",
        "    #print(C1_d[i].min())\n",
        "\n",
        "    for c in range(5):\n",
        "      for k in range(K):\n",
        "        P[c] += π[c,k]*gaussian(pt, μ[c,k], Σ[c,k])\n",
        "        #print((pt-μ[c,k])@np.linalg.inv(Σ[c,k])@(pt-μ[c,k]).T)\n",
        "        #print(multivariate_normal.pdf(pt, μ[c,k], Σ[c,k]))\n",
        "        #print((pt-μ[c,k]))\n",
        "        #print(np.linalg.inv(Σ[c,k]))\n",
        "        #print(gaussian(pt, μ[c,k], Σ[c,k]))\n",
        "    #print(P)\n",
        "    prediction[i,j] = np.argmax(P)\n",
        "    #score[i,j] = np.log(P.max())\n",
        "\n",
        "# print(prediction)\n",
        "# print(score)\n",
        "# final = np.zeros((C_d[0].shape[0], 5))\n",
        "# for c in range(5):\n",
        "#   count = 0\n",
        "#   for i in range(C_d[0].shape[0]):\n",
        "#     class_count = np.zeros(5)\n",
        "#     for j in range(36):\n",
        "#       class_count[int(prediction[count, c])] += 1\n",
        "#       count += 1\n",
        "#     final[i, c] = np.argmax(class_count)\n",
        "\n",
        "# CMatrix = np.zeros((5,5))\n",
        "# for c in range(5):\n",
        "# \tfor i in range(C_d[0].shape[0]):\n",
        "# \t\tCMatrix[int(final[i, c]), c] +=  1\n",
        "\n",
        "print(CMatrix)"
      ]
    },
    {
      "cell_type": "code",
      "execution_count": 158,
      "metadata": {},
      "outputs": [
        {
          "data": {
            "text/plain": [
              "2628"
            ]
          },
          "execution_count": 158,
          "metadata": {},
          "output_type": "execute_result"
        }
      ],
      "source": [
        "fig = plt.figure(figsize=(10, 7))\n",
        "(TPR, FPR) = ROC(C_d[0], y_true, P)"
      ]
    }
  ],
  "metadata": {
    "colab": {
      "collapsed_sections": [],
      "name": "KMEANS_GMM_ID.ipynb",
      "provenance": []
    },
    "kernelspec": {
      "display_name": "Anaconda (base)",
      "language": "python",
      "name": "anaconda-base"
    },
    "language_info": {
      "codemirror_mode": {
        "name": "ipython",
        "version": 3
      },
      "file_extension": ".py",
      "mimetype": "text/x-python",
      "name": "python",
      "nbconvert_exporter": "python",
      "pygments_lexer": "ipython3",
      "version": "3.9.7"
    }
  },
  "nbformat": 4,
  "nbformat_minor": 0
}
