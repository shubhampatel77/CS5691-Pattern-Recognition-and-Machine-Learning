{
 "cells": [
  {
   "cell_type": "code",
   "execution_count": 1,
   "id": "f13fba4f",
   "metadata": {},
   "outputs": [],
   "source": [
    "import os\n",
    "import numpy as np\n",
    "import math\n",
    "import pandas as pd\n",
    "import matplotlib.pyplot as plt\n",
    "from matplotlib import cm\n",
    "import matplotlib.image as image\n",
    "import random"
   ]
  },
  {
   "cell_type": "code",
   "execution_count": 2,
   "id": "906e1637",
   "metadata": {},
   "outputs": [],
   "source": [
    "os.chdir('/Users/shubhampatel/Desktop/PRML/Assignment 3/Isolated-Digits')"
   ]
  },
  {
   "cell_type": "code",
   "execution_count": 79,
   "id": "34be7436",
   "metadata": {},
   "outputs": [],
   "source": [
    "def read_data(dataset, type, filetype):\n",
    "    curr = os.getcwd()\n",
    "    path = f'{curr}/{dataset}/{type}'\n",
    "    os.chdir(path)\n",
    "\n",
    "    dataList = []\n",
    "    files = [file for file in os.listdir() if file.endswith(filetype)]\n",
    "\n",
    "    for file in files:\n",
    "        dataList.append(np.genfromtxt(file, delimiter=' ', skip_header=1, dtype=float))\n",
    "    os.chdir(curr)\n",
    "    return dataList"
   ]
  },
  {
   "cell_type": "code",
   "execution_count": 63,
   "id": "d4a4a047",
   "metadata": {},
   "outputs": [],
   "source": [
    "train_2 = read_data('2', 'train', '.mfcc')\n",
    "dev_2 = read_data('2', 'dev', '.mfcc')\n",
    "train_3 = read_data('3', 'train', '.mfcc')\n",
    "dev_3 = read_data('3', 'dev', '.mfcc')\n",
    "train_4 = read_data('4', 'train', '.mfcc')\n",
    "dev_4 = read_data('4', 'dev', '.mfcc')\n",
    "train_5 = read_data('5', 'train', '.mfcc')\n",
    "dev_5 = read_data('5', 'dev', '.mfcc')\n",
    "train_z = read_data('z', 'train', '.mfcc')\n",
    "dev_z = read_data('z', 'dev', '.mfcc')\n"
   ]
  },
  {
   "cell_type": "code",
   "execution_count": 97,
   "id": "4cdce5db",
   "metadata": {},
   "outputs": [
    {
     "data": {
      "text/plain": [
       "(85, 38)"
      ]
     },
     "execution_count": 97,
     "metadata": {},
     "output_type": "execute_result"
    }
   ],
   "source": [
    "x = train_2[0] \n",
    "#rows are feature vectors per frame; no of frame varies for each file; 39 files; dim=38\n"
   ]
  },
  {
   "cell_type": "code",
   "execution_count": 101,
   "id": "69c1e17c",
   "metadata": {},
   "outputs": [],
   "source": [
    "#os.getcwd()\n",
    "os.chdir('/Users/shubhampatel/Desktop/PRML/Assignment 3'+'/HMM-Code')"
   ]
  },
  {
   "cell_type": "code",
   "execution_count": 104,
   "id": "616875af",
   "metadata": {},
   "outputs": [
    {
     "ename": "SyntaxError",
     "evalue": "invalid syntax (3717430550.py, line 1)",
     "output_type": "error",
     "traceback": [
      "\u001b[0;36m  File \u001b[0;32m\"/var/folders/4y/nn0fgj3n78gbhc8c7n171c340000gn/T/ipykernel_2680/3717430550.py\"\u001b[0;36m, line \u001b[0;32m1\u001b[0m\n\u001b[0;31m    tar -xf hmm.tar\u001b[0m\n\u001b[0m            ^\u001b[0m\n\u001b[0;31mSyntaxError\u001b[0m\u001b[0;31m:\u001b[0m invalid syntax\n"
     ]
    }
   ],
   "source": [
    "tar -xf hmm.tar"
   ]
  },
  {
   "cell_type": "code",
   "execution_count": 98,
   "id": "4ed75aed",
   "metadata": {},
   "outputs": [
    {
     "ename": "IndentationError",
     "evalue": "expected an indented block (1922096868.py, line 1)",
     "output_type": "error",
     "traceback": [
      "\u001b[0;36m  File \u001b[0;32m\"/var/folders/4y/nn0fgj3n78gbhc8c7n171c340000gn/T/ipykernel_2680/1922096868.py\"\u001b[0;36m, line \u001b[0;32m1\u001b[0m\n\u001b[0;31m    def B(x, distribution):\u001b[0m\n\u001b[0m                           ^\u001b[0m\n\u001b[0;31mIndentationError\u001b[0m\u001b[0;31m:\u001b[0m expected an indented block\n"
     ]
    }
   ],
   "source": [
    "def B(x, distribution):\n",
    "    B[i, k] = "
   ]
  },
  {
   "cell_type": "code",
   "execution_count": null,
   "id": "5615b48c",
   "metadata": {},
   "outputs": [],
   "source": [
    "def α(x, t, i, A, B):\n",
    "    α(x, 1, i, A, B) = π[i]*B[i, x[i]]"
   ]
  },
  {
   "cell_type": "code",
   "execution_count": null,
   "id": "255dfbd2",
   "metadata": {},
   "outputs": [],
   "source": [
    "def HMM(x, π, ϵ, r, A, B, α, β):\n",
    "    "
   ]
  }
 ],
 "metadata": {
  "kernelspec": {
   "display_name": "Anaconda (base)",
   "language": "python",
   "name": "anaconda-base"
  },
  "language_info": {
   "codemirror_mode": {
    "name": "ipython",
    "version": 3
   },
   "file_extension": ".py",
   "mimetype": "text/x-python",
   "name": "python",
   "nbconvert_exporter": "python",
   "pygments_lexer": "ipython3",
   "version": "3.9.7"
  }
 },
 "nbformat": 4,
 "nbformat_minor": 5
}
