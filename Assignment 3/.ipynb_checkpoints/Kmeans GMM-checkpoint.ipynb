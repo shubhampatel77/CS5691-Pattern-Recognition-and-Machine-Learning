{
 "cells": [
  {
   "cell_type": "code",
   "execution_count": 246,
   "id": "1030f9eb",
   "metadata": {},
   "outputs": [],
   "source": [
    "import os\n",
    "import numpy as np\n",
    "import math\n",
    "import pandas as pd\n",
    "import matplotlib.pyplot as plt\n",
    "from matplotlib import cm\n",
    "import matplotlib.image as image\n",
    "import random\n",
    "from scipy.interpolate import griddata\n",
    "%matplotlib qt"
   ]
  },
  {
   "cell_type": "code",
   "execution_count": 2,
   "id": "b584d6d6",
   "metadata": {},
   "outputs": [],
   "source": [
    "#imdir = 'opencountry'\n",
    "#img=image.imread('opencountry_cdmc935.jpg')\n",
    "# print('The Shape of the image is:',img.shape)\n",
    "# print('The image as array is:')\n",
    "# print(img)"
   ]
  },
  {
   "cell_type": "code",
   "execution_count": 3,
   "id": "e74a44bb",
   "metadata": {},
   "outputs": [],
   "source": [
    "# path = os.getcwd()\n",
    "# examples = 0\n",
    "# train = []\n",
    "# #train = np.loadtxt(path+'/opencountry_train/'+'opencountry_land588.jpg_color_edh_entropy')\n",
    "# for filename in os.listdir(\"opencountry_train\"):\n",
    "#     examples += 1\n",
    "#     train.append(np.loadtxt(path+'/opencountry_train/'+filename))\n",
    "#     #print(filename, examples)\n",
    "# train = np.array(train).reshape(examples, 36*23)\n",
    "# train\n",
    "# #train = train.reshape(287, 828, 1)\n",
    "# #print(np.min(train))"
   ]
  },
  {
   "cell_type": "code",
   "execution_count": 4,
   "id": "6cd83020",
   "metadata": {},
   "outputs": [],
   "source": [
    "os.chdir('/Users/shubhampatel/Desktop/PRML/Assignment 3/Synthetic Dataset')"
   ]
  },
  {
   "cell_type": "code",
   "execution_count": 247,
   "id": "e283a151",
   "metadata": {},
   "outputs": [],
   "source": [
    "syth = np.loadtxt('train.txt', delimiter=',')\n",
    "C1 = syth[syth[:,2] == 1]\n",
    "C2 = syth[syth[:,2] == 2]\n",
    "sythdev = np.loadtxt('dev.txt', delimiter=',')\n",
    "# print(C1, C2)\n",
    "# print(syth[:,2] == 1)"
   ]
  },
  {
   "cell_type": "code",
   "execution_count": 6,
   "id": "3171b30f",
   "metadata": {},
   "outputs": [],
   "source": [
    "def stats(x):\n",
    "    μ = x.mean(0)\n",
    "    Σ = np.cov(x, rowvar=False)\n",
    "    return (μ, Σ)"
   ]
  },
  {
   "cell_type": "code",
   "execution_count": 7,
   "id": "64107648",
   "metadata": {},
   "outputs": [],
   "source": [
    "def gaussian(x, μ, Σ):\n",
    "    d = len(μ)\n",
    "    exponent = np.exp(-0.5*(x-μ)@np.linalg.inv(Σ)@(x-μ).T )\n",
    "    det = 1/(np.linalg.det(Σ))**0.5\n",
    "    gdf = 1/(2*np.pi)**(d/2)*det*exponent\n",
    "    return gdf"
   ]
  },
  {
   "cell_type": "code",
   "execution_count": 170,
   "id": "41a26125",
   "metadata": {},
   "outputs": [],
   "source": [
    "def initial(x, K):\n",
    "    n_tot, d = x.shape\n",
    "    μ_initial = np.zeros([K, d])\n",
    "    Σ_initial = np.zeros([K, d, d])\n",
    "    for k in np.arange(K):\n",
    "        index = random.randint(0, n_tot)\n",
    "        μ_initial[k, :] = x[index]\n",
    "        Σ_initial[k, :, :] = stats(x)[1]\n",
    "    π_initial = 1/K*np.ones(K)\n",
    "    return (π_initial, μ_initial, Σ_initial)"
   ]
  },
  {
   "cell_type": "code",
   "execution_count": 171,
   "id": "3a5af7a6",
   "metadata": {},
   "outputs": [],
   "source": [
    "def Kmeans(x, μ, K):\n",
    "    \n",
    "    n_tot, d = x.shape\n",
    "    err = []; N = np.zeros(K); distribution = np.zeros([n_tot, K])\n",
    "    for n in range(n_tot):\n",
    "        for k in range(K):\n",
    "            err.append(np.linalg.norm(μ[k]-x[n]))\n",
    "        err = np.array(err)\n",
    "        i = np.argmin(err)\n",
    "        N[i] += 1\n",
    "        distribution[n, i] = 1\n",
    "        err = []\n",
    "    \n",
    "    μ_new = np.zeros([K, d])\n",
    "    for k in range(K):\n",
    "        for n in range(n_tot):\n",
    "            if distribution[n, k] == 1:\n",
    "                μ_new[k, :] += 1/N[k]*x[n]\n",
    "    \n",
    "    Σ_new = np.zeros([K, d, d]); distortion = 0\n",
    "    for k in range(K):\n",
    "        for n in range(n_tot):\n",
    "            if distribution[n, k] == 1:\n",
    "                Σ_new[k, :, :] += 1/N[k]*((x[n]-μ_new[k]).reshape(d, 1)@(x[n]-μ_new[k]).reshape(1, d))\n",
    "                distortion += np.linalg.norm(μ_new[k]-x[n])\n",
    "            \n",
    "    return (N, distribution, μ_new, Σ_new, distortion)"
   ]
  },
  {
   "cell_type": "code",
   "execution_count": 173,
   "id": "6368f0be",
   "metadata": {},
   "outputs": [],
   "source": [
    "def GMM(x, π, μ, Σ, K):\n",
    "    \n",
    "    n_tot, d = x.shape\n",
    "    Sum = 0\n",
    "    γ = np.zeros([n_tot, K])\n",
    "    for n in range(n_tot):\n",
    "        for k in range(K):\n",
    "            Sum += π[k]*gaussian(x[n], μ[k], Σ[k])\n",
    "        for k in range(K):\n",
    "            γ[n, k] = π[k]*gaussian(x[n], μ[k], Σ[k])/Sum\n",
    "        Sum = 0\n",
    "    \n",
    "    N = np.zeros(K); π_new = np.zeros(K)\n",
    "    for k in range(K):\n",
    "        for n in range(n_tot):\n",
    "            N[k] += γ[n, k]\n",
    "        π_new[k] = N[k]/n_tot\n",
    "        \n",
    "    μ_new = np.zeros([K, d])\n",
    "    for n in range(n_tot):\n",
    "        for k in range(K):\n",
    "            μ_new[k, :] += γ[n, k]/N[k]*x[n]\n",
    "            \n",
    "    Σ_new = np.zeros([K, d, d]); distortion = 0\n",
    "    for n in range(n_tot):\n",
    "        for k in range(K):\n",
    "            Σ_new[k, :, :] += γ[n, k]/N[k]*((x[n]-μ_new[k]).reshape(d, 1)@(x[n]-μ_new[k]).reshape(1, d))\n",
    "            distortion += γ[n, k]*np.linalg.norm(μ_new[k]-x[n])\n",
    "            \n",
    "    return (γ, π_new, μ_new, Σ_new, distortion)      "
   ]
  },
  {
   "cell_type": "code",
   "execution_count": 204,
   "id": "3fef0f89",
   "metadata": {},
   "outputs": [],
   "source": [
    "def decision(x, ytest, f):\n",
    "    xx, yy = grid(x, f)[:2]\n",
    "    z = ytest.reshape(xx.shape)\n",
    "    return (xx, yy, z)"
   ]
  },
  {
   "cell_type": "code",
   "execution_count": 188,
   "id": "44067e0f",
   "metadata": {},
   "outputs": [],
   "source": [
    "def grid(x, f):\n",
    "    min1, max1 = x[:, 0].min()-1, x[:, 0].max()+1\n",
    "    min2, max2 = x[:, 1].min()-1, x[:, 1].max()+1\n",
    "    x1grid = np.arange(min1, max1, f)\n",
    "    x2grid = np.arange(min2, max2, f)\n",
    "    xx, yy = np.meshgrid(x1grid, x2grid)\n",
    "    r1, r2 = xx.flatten(), yy.flatten()\n",
    "    r1, r2 = r1.reshape((len(r1), 1)), r2.reshape((len(r2), 1))\n",
    "    grid = np.hstack((r1,r2))\n",
    "    return (xx, yy, grid)"
   ]
  },
  {
   "cell_type": "code",
   "execution_count": 205,
   "id": "3a0bb047",
   "metadata": {
    "scrolled": false
   },
   "outputs": [
    {
     "name": "stdout",
     "output_type": "stream",
     "text": [
      "610.0471373032775 591.2747301842596\n",
      "755.8010371568566 688.3213585580961\n"
     ]
    }
   ],
   "source": [
    "fig = plt.figure(figsize=(10,10))\n",
    "rows = 1\n",
    "cols = 2\n",
    "# K Means implementation\n",
    "K = 16\n",
    "π1_initial, μ1_initial, Σ1_initial = initial(C1[:,:2], K)\n",
    "π2_initial, μ2_initial, Σ2_initial = initial(C2[:,:2], K)\n",
    "for j in range(25):\n",
    "    N1, dist1, μ1_new, Σ1_new, dk1 = Kmeans(C1[:,:2], μ1_initial, K)\n",
    "    N2, dist2, μ2_new, Σ2_new, dk2 = Kmeans(C2[:,:2], μ2_initial, K)\n",
    "    # print(np.sum(μ_new-μ_initial), np.sum(Σ_new-Σ_initial)) #np.linalg.det(Σ_initial))\n",
    "    μ1_initial = μ1_new; Σ1_initial = Σ1_new\n",
    "    μ2_initial = μ2_new; Σ2_initial = Σ2_new\n",
    "print(dk1, dk2)\n",
    "# fig.add_subplot(rows,cols,1)\n",
    "# plt.scatter(C1[:,0], C1[:,1], s=1, label ='Class 1')\n",
    "# plt.scatter(C2[:,0], C2[:,1], s=1, label ='Class 2')\n",
    "# plt.scatter(μ1_initial[:,0], μ1_initial[:,1], s=20, c = 'red', label ='Class 1 Centroids')\n",
    "# plt.scatter(μ2_initial[:,0], μ2_initial[:,1], s=20, c = 'blue', label ='Class 2 Centroids')\n",
    "# plt.title('K-Means')\n",
    "# plt.legend()\n",
    "\n",
    "#GMM implementation\n",
    "for j in range(5):\n",
    "    γ1, π1_new, μ1_new, Σ1_new, dg1 = GMM(C1[:,:2], π1_initial, μ1_initial, Σ1_initial, K)\n",
    "    γ2, π2_new, μ2_new, Σ2_new, dg2 = GMM(C2[:,:2], π2_initial, μ2_initial, Σ2_initial, K)\n",
    "    #print(np.sum(μ_new-μ_initial), np.sum(Σ_new-Σ_initial))#, μ_new)#np.linalg.det(Σ_initial))\n",
    "    π1_initial = π1_new; μ1_initial = μ1_new; Σ1_initial = Σ1_new\n",
    "    π2_initial = π2_new; μ2_initial = μ2_new; Σ2_initial = Σ2_new\n",
    "print(dg1, dg2)"
   ]
  },
  {
   "cell_type": "code",
   "execution_count": 294,
   "id": "d6e55a47",
   "metadata": {},
   "outputs": [],
   "source": [
    "#1)Contour lines\n",
    "xx1, yy1, g1 = grid(C1[:,:2], 0.05)\n",
    "xx2, yy2, g2 = grid(C2[:,:2], 0.05)\n",
    "GDF1 = np.zeros((K,len(g1)))\n",
    "GDF2 = np.zeros((K,len(g2)))\n",
    "for k in range(K):\n",
    "    for i in range(len(g1)):\n",
    "        GDF1[k, i] = gaussian(g1[i], μ1_initial[k], Σ1_initial[k])\n",
    "    for i in range(len(g2)):\n",
    "        GDF2[k, i] = gaussian(g2[i], μ2_initial[k], Σ2_initial[k])\n",
    "\n",
    "GDF1[np.where(GDF1 == 0)] = math.exp(-200)\n",
    "GDF2[np.where(GDF2 == 0)] = math.exp(-200)\n",
    "\n",
    "for k in range(K):\n",
    "    zz1 = GDF1[k,:].reshape(xx1.shape)\n",
    "    zz2 = GDF2[k,:].reshape(xx2.shape)\n",
    "    plt.contour(xx1, yy1, zz1, linewidths=0.4, cmap='Paired')\n",
    "    plt.contour(xx2, yy2, zz2, linewidths=0.4, cmap='Paired')   \n",
    "\n",
    "#2)Decision Boundary\n",
    "xtest = grid(syth[:, :2], 0.05)[2]   \n",
    "P1 = np.zeros(len(xtest)); P2 = np.zeros(len(xtest))\n",
    "for i in range(len(xtest)):\n",
    "    for k in range(K):\n",
    "        P1[i] += 1/2*π1_initial[k]*gaussian(xtest[i], μ1_initial[k], Σ1_initial[k])\n",
    "        P2[i] += 1/2*π2_initial[k]*gaussian(xtest[i], μ2_initial[k], Σ2_initial[k])\n",
    "P = np.vstack((P1, P2)).T\n",
    "\n",
    "ytest = []; yscore =[]\n",
    "for i in range(len(xtest)):\n",
    "    ytest.append(np.argmax(P[i,:])+1)\n",
    "    yscore.append(np.max(P[i,:]))\n",
    "ytest = np.array(ytest); yscore = np.array(yscore)\n",
    "\n",
    "xx, yy, z = decision(syth[:, :2], ytest, 0.05)\n",
    "plt.contourf(xx, yy, z, colors = ['springgreen','lightskyblue'])\n",
    "\n",
    "#3)GMM plots\n",
    "#fig.add_subplot(rows,cols,2)\n",
    "plt.scatter(C1[:,0], C1[:,1], s=1, label ='Class 1')\n",
    "plt.scatter(C2[:,0], C2[:,1], s=1, label ='Class 2')\n",
    "plt.scatter(μ1_initial[:,0], μ1_initial[:,1], s=20, c = 'red')\n",
    "plt.scatter(μ2_initial[:,0], μ2_initial[:,1], s=20, c = 'blue')\n",
    "plt.title('GMM')\n",
    "plt.legend()\n",
    "\n",
    "plt.show()"
   ]
  },
  {
   "cell_type": "code",
   "execution_count": null,
   "id": "335411cf",
   "metadata": {},
   "outputs": [],
   "source": [
    "def predict(traindata, )"
   ]
  },
  {
   "cell_type": "code",
   "execution_count": 324,
   "id": "b9058dee",
   "metadata": {},
   "outputs": [
    {
     "data": {
      "text/plain": [
       "[<matplotlib.lines.Line2D at 0x7f83c67a72b0>]"
      ]
     },
     "execution_count": 324,
     "metadata": {},
     "output_type": "execute_result"
    }
   ],
   "source": [
    "#xtest = grid(syth[:, :2], 0.1)[2]   \n",
    "    #ytest.append(np.argmax(P[i,:])+1)\n",
    "    #yscore.append(np.max(P[i,:]))\n",
    "#ytest = np.array(ytest); yscore = np.array(yscore)\n",
    "(TPR, FPR) = ROC(sythdev[:,:2], π1_initial, μ1_initial, Σ1_initial, π2_initial, μ2_initial, Σ2_initial, K)\n",
    "plt.plot(FPR, TPR,'r')"
   ]
  },
  {
   "cell_type": "code",
   "execution_count": 313,
   "id": "d1985007",
   "metadata": {},
   "outputs": [
    {
     "data": {
      "text/plain": [
       "array([-3.6864, 14.159 ,  1.    ])"
      ]
     },
     "execution_count": 313,
     "metadata": {},
     "output_type": "execute_result"
    }
   ],
   "source": [
    "sythdev[499]"
   ]
  },
  {
   "cell_type": "code",
   "execution_count": 322,
   "id": "ecb22223",
   "metadata": {},
   "outputs": [],
   "source": [
    "def ROC(xtest, π1_initial, μ1_initial, Σ1_initial, π2_initial, μ2_initial, Σ2_initial, K):\n",
    "    \n",
    "    TPR = []; FPR = []\n",
    "    P1 = np.zeros(len(xtest)); P2 = np.zeros(len(xtest))\n",
    "    for i in range(len(xtest)):\n",
    "        for k in range(K):\n",
    "            P1[i] += 1/2*π1_initial[k]*gaussian(xtest[i], μ1_initial[k], Σ1_initial[k])\n",
    "            P2[i] += 1/2*π2_initial[k]*gaussian(xtest[i], μ2_initial[k], Σ2_initial[k])\n",
    "    P = np.vstack((P1, P2)).T\n",
    "    threshold_min = np.min(P)\n",
    "    threshold_max = np.max(P)\n",
    "#     ytest=[]; y_predict =[]\n",
    "#     for i in range(len(xtest)):\n",
    "#         ytest.append(np.argmax(P[i,:])+1)\n",
    "#     y_predict = ytest\n",
    "        \n",
    "    threshold_vec = np.linspace(threshold_min, threshold_max, num=1000)\n",
    "    for threshold in threshold_vec:\n",
    "        TP, FP = 0, 0\n",
    "        TN, FN = 0, 0\n",
    "        y_predict = []\n",
    "        for i in range(len(xtest[:500])):\n",
    "            if P[i, 0]>=threshold:\n",
    "                TP += 1\n",
    "            else:\n",
    "                FN += 1\n",
    "            if P[i, 1]>=threshold:\n",
    "                FP += 1\n",
    "            else:\n",
    "                TN += 1\n",
    "        for i in range(len(xtest[500:])):\n",
    "            if P[i, 1]>=threshold:\n",
    "                TP += 1\n",
    "            else:\n",
    "                FN += 1\n",
    "            if P[i, 0]>=threshold:\n",
    "                FP += 1\n",
    "            else:\n",
    "                TN += 1\n",
    "            \n",
    "#             if P2[i]>=threshold:\n",
    "#                 y_predict.append(2)\n",
    "#             else:\n",
    "#                 y_predict.append(1)\n",
    "#             y_predict.append(np.argmax(P[i,:])+1)\n",
    "#         for i in range(len(xtest)):\n",
    "#             if y_predict[i] == 1 and y_true[i] == 1:\n",
    "#                 TP += 1\n",
    "#             elif y_predict[i] == 1 and y_true[i] == 2:\n",
    "#                 FP += 1\n",
    "#             elif y_predict[i] == 2 and y_true[i] == 1:\n",
    "#                 FN += 1\n",
    "#             else:\n",
    "#                 TN += 1\n",
    "#         for i in range(len(xtest)):\n",
    "#             for j in range(2):\n",
    "#                 if P[i, j]>=threshold:\n",
    "#                     if ytest[i] == j+1:\n",
    "#                         TP += 1\n",
    "#                     else:\n",
    "#                         FP += 1\n",
    "#                 else:\n",
    "#                     if ytest[i] == j+1:\n",
    "#                         FN += 1\n",
    "#                     else:\n",
    "#                         TN += 1\n",
    "        TPR.append(TP/(TP+FN))\n",
    "        FPR.append(FP/(FP+TN))\n",
    "    return (TPR, FPR)"
   ]
  },
  {
   "cell_type": "code",
   "execution_count": 281,
   "id": "590ec573",
   "metadata": {},
   "outputs": [
    {
     "data": {
      "text/plain": [
       "1"
      ]
     },
     "execution_count": 281,
     "metadata": {},
     "output_type": "execute_result"
    }
   ],
   "source": [
    "y_predict = []\n",
    "for i in range(len(xtest)):\n",
    "    if P1[i]>=.0003:\n",
    "        y_predict.append(1)\n",
    "    else:\n",
    "        y_predict.append(2)\n",
    "np.min(np.array(y_predict))"
   ]
  },
  {
   "cell_type": "code",
   "execution_count": null,
   "id": "d8a31be6",
   "metadata": {},
   "outputs": [],
   "source": []
  },
  {
   "cell_type": "code",
   "execution_count": 152,
   "id": "278ebaba",
   "metadata": {},
   "outputs": [
    {
     "data": {
      "text/plain": [
       "[<matplotlib.lines.Line2D at 0x7f83f5be1af0>]"
      ]
     },
     "execution_count": 152,
     "metadata": {},
     "output_type": "execute_result"
    }
   ],
   "source": [
    "import sklearn\n",
    "from sklearn.metrics import DetCurveDisplay, RocCurveDisplay\n",
    "#f,t,o=sklearn.metrics.roc_curve(ytest, yscore, pos_label=1)\n",
    "f,t,o=sklearn.metrics.det_curve(ytest, yscore, pos_label=1)\n",
    "plt.plot(f,t)"
   ]
  },
  {
   "cell_type": "code",
   "execution_count": 18,
   "id": "e4b71673",
   "metadata": {},
   "outputs": [],
   "source": [
    "# def plus(ds, k, random_state=42):\n",
    "#     np.random.seed(random_state)\n",
    "#     centroids = [ds[0]]\n",
    "#     for _ in range(1, k):\n",
    "#         dist_sq = np.array([min([np.inner(c-x,c-x) for c in centroids]) for x in ds])\n",
    "#         probs = dist_sq/dist_sq.sum()\n",
    "#         cumulative_probs = probs.cumsum()\n",
    "    \n",
    "#     r = np.random.rand()\n",
    "#     i=0\n",
    "#     for j, p in enumerate(cumulative_probs):\n",
    "#         if r < p:\n",
    "#             i = j\n",
    "#         break\n",
    "#         centroids.append(ds[i])\n",
    "#     return np.array(centroids)"
   ]
  },
  {
   "cell_type": "code",
   "execution_count": 19,
   "id": "b6030e60",
   "metadata": {},
   "outputs": [],
   "source": [
    "# from sklearn import mixture\n",
    "# model = mixture.GaussianMixture(n_components=16, covariance_type='full').fit(train)\n",
    "# labels = model.predict(train)\n",
    "# plt.scatter(train[:, 0], train[:, 1], c=labels, s=40, cmap='viridis');"
   ]
  }
 ],
 "metadata": {
  "kernelspec": {
   "display_name": "Anaconda (base)",
   "language": "python",
   "name": "anaconda-base"
  },
  "language_info": {
   "codemirror_mode": {
    "name": "ipython",
    "version": 3
   },
   "file_extension": ".py",
   "mimetype": "text/x-python",
   "name": "python",
   "nbconvert_exporter": "python",
   "pygments_lexer": "ipython3",
   "version": "3.9.7"
  }
 },
 "nbformat": 4,
 "nbformat_minor": 5
}
