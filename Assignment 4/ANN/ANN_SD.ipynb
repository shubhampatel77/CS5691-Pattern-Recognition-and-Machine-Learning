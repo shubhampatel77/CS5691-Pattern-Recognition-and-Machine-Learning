{
 "cells": [
  {
   "cell_type": "code",
   "execution_count": null,
   "metadata": {},
   "outputs": [],
   "source": [
    "import numpy as np\n",
    "from sklearn.metrics import confusion_matrix, accuracy_score\n",
    "import matplotlib.pyplot as plt\n",
    "import seaborn as sns\n",
    "from keras.models import Sequential\n",
    "from keras.layers import Dense\n",
    "from modules.stats import * \n",
    "from modules.PCA import * \n",
    "from modules.LDA import * \n",
    "from modules.read_data import * \n",
    "from modules.ROC import *"
   ]
  },
  {
   "cell_type": "code",
   "execution_count": null,
   "metadata": {},
   "outputs": [],
   "source": [
    "path = '../../Assets/Synthetic Dataset'\n",
    "X, Y, X_d, Y_d = read_SD(path)"
   ]
  },
  {
   "cell_type": "code",
   "execution_count": null,
   "metadata": {},
   "outputs": [],
   "source": [
    "pca = False\n",
    "lda = False\n",
    "lda = ~pca & lda #if pca is true then lda is false"
   ]
  },
  {
   "cell_type": "code",
   "execution_count": null,
   "metadata": {},
   "outputs": [],
   "source": [
    "if pca:\n",
    "\tl = 1\n",
    "\ttrain_mean, train_cov = stats(X)\n",
    "\teigval, Q = PCA(train_cov, l)\n",
    "\tX = X @ Q\n",
    "\tX_d = X_d @ Q\n",
    "if lda:\n",
    "\tpc = 1\n",
    "\tμ, Σ = stats(X)\n",
    "\tμk = []\n",
    "\tfor c in range(2):\n",
    "\t\tμk.append(stats(X[Y == c])[0])\n",
    "\tμk = np.array(μk)\n",
    "\tv = LDA(X,Y,μ,μk,pc)\n",
    "\tX = np.abs(X @ v)\n",
    "\tX_d = np.abs(X_d @ v)"
   ]
  },
  {
   "cell_type": "code",
   "execution_count": null,
   "metadata": {},
   "outputs": [],
   "source": [
    "classifier = Sequential()\n",
    "classifier.add(Dense(units = 512, input_shape=(X.shape[1],), kernel_initializer = 'uniform', activation = 'relu'))\n",
    "classifier.add(Dense(units = 512, input_shape=(X.shape[1],), kernel_initializer = 'uniform', activation = 'relu'))\n",
    "classifier.add(Dense(units = 1, kernel_initializer = 'uniform', activation = 'sigmoid'))\n",
    "classifier.compile(optimizer = 'adam', loss = 'binary_crossentropy', metrics = ['accuracy'])"
   ]
  },
  {
   "cell_type": "code",
   "execution_count": null,
   "metadata": {},
   "outputs": [],
   "source": [
    "classifier.fit(X, Y, batch_size = 10, epochs = 100)"
   ]
  },
  {
   "cell_type": "code",
   "execution_count": null,
   "metadata": {},
   "outputs": [],
   "source": [
    "score = classifier.predict(X_d)\n",
    "y_pred = (score > 0.5)"
   ]
  },
  {
   "cell_type": "code",
   "execution_count": null,
   "metadata": {},
   "outputs": [],
   "source": [
    "cm = confusion_matrix(Y_d, y_pred)\n",
    "accuracy = accuracy_score(Y_d,y_pred)\n",
    "ax = sns.heatmap(cm, annot = True, cmap ='plasma',linecolor ='black', linewidths = 1, fmt = '.0f', xticklabels = '12', yticklabels = '12')\n",
    "ax.set_title(f'Accuracy = {accuracy}')"
   ]
  },
  {
   "cell_type": "code",
   "execution_count": null,
   "metadata": {},
   "outputs": [],
   "source": [
    "TPR, FPR = ROC(Y_d, score)\n",
    "plt.plot(FPR, TPR)\n",
    "plt.xlabel('FPR')\n",
    "plt.ylabel('TPR')\n",
    "plt.title(\"ROC\")"
   ]
  }
 ],
 "metadata": {
  "interpreter": {
   "hash": "38740d3277777e2cd7c6c2cc9d8addf5118fdf3f82b1b39231fd12aeac8aee8b"
  },
  "kernelspec": {
   "display_name": "Python 3.9.7 64-bit",
   "language": "python",
   "name": "python3"
  },
  "language_info": {
   "codemirror_mode": {
    "name": "ipython",
    "version": 3
   },
   "file_extension": ".py",
   "mimetype": "text/x-python",
   "name": "python",
   "nbconvert_exporter": "python",
   "pygments_lexer": "ipython3",
   "version": "3.9.7"
  },
  "orig_nbformat": 4
 },
 "nbformat": 4,
 "nbformat_minor": 2
}
