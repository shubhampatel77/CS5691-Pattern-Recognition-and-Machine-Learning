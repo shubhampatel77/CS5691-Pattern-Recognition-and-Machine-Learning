{
 "cells": [
  {
   "cell_type": "code",
   "execution_count": null,
   "metadata": {},
   "outputs": [],
   "source": [
    "import numpy as np\n",
    "from sklearn.metrics import confusion_matrix, accuracy_score\n",
    "import seaborn as sns\n",
    "import matplotlib.pyplot as plt\n",
    "from sklearn.preprocessing import label_binarize\n",
    "from modules.KNN import *\n",
    "from modules.stats import * \n",
    "from modules.PCA import * \n",
    "from modules.LDA import * \n",
    "from modules.read_data import *\n",
    "from modules.ROC import *"
   ]
  },
  {
   "cell_type": "code",
   "execution_count": null,
   "metadata": {},
   "outputs": [],
   "source": [
    "path = '../../Assets/Synthetic Dataset'\n",
    "X, Y, X_d, Y_d = read_SD(path)"
   ]
  },
  {
   "cell_type": "code",
   "execution_count": null,
   "metadata": {},
   "outputs": [],
   "source": [
    "pca = False\n",
    "lda = False\n",
    "lda = ~pca & lda #if pca is true then lda is false"
   ]
  },
  {
   "cell_type": "code",
   "execution_count": null,
   "metadata": {},
   "outputs": [],
   "source": [
    "if pca:\n",
    "\tl = 1\n",
    "\ttrain_mean, train_cov = stats(X)\n",
    "\teigval, Q = PCA(train_cov, l)\n",
    "\tX = X @ Q\n",
    "\tX_d = X_d @ Q\n",
    "if lda:\n",
    "\tpc = 1\n",
    "\tμ, Σ = stats(X)\n",
    "\tμk = []\n",
    "\tfor c in range(2):\n",
    "\t\tμk.append(stats(X[Y == c])[0])\n",
    "\tμk = np.array(μk)\n",
    "\tv = LDA(X,Y,μ,μk,pc)\n",
    "\tX = np.abs(X @ v)\n",
    "\tX_d = np.abs(X_d @ v)"
   ]
  },
  {
   "cell_type": "code",
   "execution_count": null,
   "metadata": {},
   "outputs": [],
   "source": [
    "C1 = X[Y== 0]\n",
    "C2 = X[Y == 1]\n",
    "D1 = X_d[Y_d == 0]\n",
    "D2 = X_d[Y_d == 1]"
   ]
  },
  {
   "cell_type": "code",
   "execution_count": null,
   "metadata": {},
   "outputs": [],
   "source": [
    "C = []\n",
    "D = []\n",
    "C.append(C1)\n",
    "C.append(C2)\n",
    "D.append(D1)\n",
    "D.append(D2)"
   ]
  },
  {
   "cell_type": "code",
   "execution_count": null,
   "metadata": {},
   "outputs": [],
   "source": [
    "##KNN implementation\n",
    "total_train = X\n",
    "dev_data = D\n",
    "kn = 15\n",
    "\n",
    "prediction = []\n",
    "P = []\n",
    "for c in range(2):\n",
    "\tp = np.zeros(dev_data[c].shape[0])\n",
    "\ta = np.zeros((dev_data[c].shape[0], 2))\n",
    "\tfor i in range(dev_data[c].shape[0]):\n",
    "\t\tp[i] = KNN(dev_data[c][i], total_train, Y, kn)[0]\n",
    "\t\tA = KNN(dev_data[c][i], total_train, Y, kn)[1]\n",
    "\t\ta[i] = np.array([(A==0).sum()/kn, (A==1).sum()/kn])\n",
    "\tprediction.append(p)\n",
    "\tP.append(a)\n",
    "P = np.concatenate(P)"
   ]
  },
  {
   "cell_type": "code",
   "execution_count": null,
   "metadata": {},
   "outputs": [],
   "source": [
    "cm = confusion_matrix(np.array(prediction).flatten(), Y_d)\n",
    "accuracy = accuracy_score(np.array(prediction).flatten(),Y_d)\n",
    "ax = sns.heatmap(cm, annot = True, cmap ='plasma',linecolor ='black', linewidths = 1, fmt = '.0f', xticklabels = '12', yticklabels = '12')\n",
    "ax.set_title(f'Accuracy = {accuracy}')"
   ]
  },
  {
   "cell_type": "code",
   "execution_count": null,
   "metadata": {},
   "outputs": [],
   "source": [
    "TPR, FPR = ROC(Y_d, P[:,1])\n",
    "plt.plot(FPR, TPR)\n",
    "plt.xlabel('FPR')\n",
    "plt.ylabel('TPR')\n",
    "plt.title(\"ROC\")"
   ]
  }
 ],
 "metadata": {
  "interpreter": {
   "hash": "38740d3277777e2cd7c6c2cc9d8addf5118fdf3f82b1b39231fd12aeac8aee8b"
  },
  "kernelspec": {
   "display_name": "Python 3.9.7 64-bit",
   "language": "python",
   "name": "python3"
  },
  "language_info": {
   "codemirror_mode": {
    "name": "ipython",
    "version": 3
   },
   "file_extension": ".py",
   "mimetype": "text/x-python",
   "name": "python",
   "nbconvert_exporter": "python",
   "pygments_lexer": "ipython3",
   "version": "3.9.7"
  },
  "orig_nbformat": 4
 },
 "nbformat": 4,
 "nbformat_minor": 2
}
