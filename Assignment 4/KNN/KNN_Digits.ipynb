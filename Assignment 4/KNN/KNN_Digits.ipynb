{
 "cells": [
  {
   "cell_type": "code",
   "execution_count": null,
   "metadata": {},
   "outputs": [],
   "source": [
    "import numpy as np\n",
    "from sklearn.metrics import confusion_matrix, accuracy_score\n",
    "import seaborn as sns\n",
    "import matplotlib.pyplot as plt\n",
    "from sklearn.preprocessing import label_binarize\n",
    "from modules.KNN import *\n",
    "from modules.DTW import *\n",
    "from modules.stats import * \n",
    "from modules.PCA import * \n",
    "from modules.LDA import * \n",
    "from modules.read_data import *\n",
    "from modules.ROC import *"
   ]
  },
  {
   "cell_type": "code",
   "execution_count": null,
   "metadata": {},
   "outputs": [],
   "source": [
    "path = 'Assets/Isolated Digits'\n",
    "data_class = ['2', '3', '4', '5', 'z']\n",
    "\n",
    "C = []; D = []\n",
    "for i in data_class:\n",
    "\tC.append(read_digit(path, i, 'train')[0])\n",
    "\tD.append(read_digit(path, i, 'dev')[0])"
   ]
  },
  {
   "cell_type": "code",
   "execution_count": null,
   "metadata": {},
   "outputs": [],
   "source": [
    "C_y = []\n",
    "D_y = []\n",
    "\n",
    "for i in range(5):\n",
    "\tC_y.append(i * np.ones(len(C[i])))\n",
    "\tD_y.append(i * np.ones(len(D[i])))"
   ]
  },
  {
   "cell_type": "code",
   "execution_count": null,
   "metadata": {},
   "outputs": [],
   "source": [
    "Cn = []\n",
    "Dn = []\n",
    "for c in range(5):\n",
    "\tC_new = np.array(C[c][0])\n",
    "\tD_new = np.array(D[c][0])\n",
    "\tfor i in range(1,len(C[c])):\n",
    "\t\tC_new = np.vstack((C_new, np.array(C[c][i])))\n",
    "\tfor i in range(1,len(D[c])):\n",
    "\t\tD_new = np.vstack((D_new, np.array(D[c][i])))\n",
    "\tCn.append(C_new)\n",
    "\tDn.append(D_new)"
   ]
  },
  {
   "cell_type": "code",
   "execution_count": null,
   "metadata": {},
   "outputs": [],
   "source": [
    "Yn = []\n",
    "Yn_d = []\n",
    "\n",
    "for i in range(5):\n",
    "\tYn.append(i * np.ones(len(Cn[i])))\n",
    "\tYn_d.append(i * np.ones(len(Dn[i])))\n",
    "\n",
    "Yn = np.concatenate(Yn, axis=0)\n",
    "Yn_d = np.concatenate(Yn_d, axis=0)"
   ]
  },
  {
   "cell_type": "code",
   "execution_count": null,
   "metadata": {},
   "outputs": [],
   "source": [
    "X = np.concatenate(Cn, axis=0)\n",
    "X_d = np.concatenate(Dn, axis=0)\n",
    "Y = np.concatenate(C_y, axis=0)\n",
    "Y_d = np.concatenate(D_y, axis=0)"
   ]
  },
  {
   "cell_type": "code",
   "execution_count": null,
   "metadata": {},
   "outputs": [],
   "source": [
    "pca = False\n",
    "lda = False\n",
    "lda = ~pca & lda #if pca is true then lda is false"
   ]
  },
  {
   "cell_type": "code",
   "execution_count": null,
   "metadata": {},
   "outputs": [],
   "source": [
    "if pca:\n",
    "\tpc = 15\n",
    "\tμ, Σ = stats(X)\n",
    "\teigval, Q = PCA(Σ, pc)\n",
    "\tX = X @ Q\n",
    "\tX_d = X_d @ Q\n",
    "if lda:\n",
    "\tpc = 15\n",
    "\tμ, Σ = stats(X)\n",
    "\tμk = []\n",
    "\tfor c in range(5):\n",
    "\t\tμk.append(stats(X[Yn == c])[0])\n",
    "\tμk = np.array(μk)\n",
    "\tv = LDA(X,Yn,μ,μk,pc)\n",
    "\tX = np.abs(X @ v)\n",
    "\tX_d = np.abs(X_d @ v)"
   ]
  },
  {
   "cell_type": "code",
   "execution_count": null,
   "metadata": {},
   "outputs": [],
   "source": [
    "if pca or lda:\n",
    "\tcn = 0\n",
    "\tdn = 0\n",
    "\tC_new = []\n",
    "\tD_new = []\n",
    "\tfor c in range(5):\n",
    "\t\tt = []\n",
    "\t\td = []\n",
    "\t\tfor i in range(len(C[c])):\n",
    "\t\t\tt.append(X[cn:cn+len(C[c][i])])\n",
    "\t\t\tcn += len(C[c][i])\n",
    "\t\tfor i in range(len(D[c])):\n",
    "\t\t\td.append(X_d[dn:dn+len(D[c][i])])\n",
    "\t\t\tdn += len(D[c][i])\n",
    "\t\tD_new.append(d)\n",
    "\t\tC_new.append(t)\n",
    "\tD = D_new\n",
    "\tC = C_new"
   ]
  },
  {
   "cell_type": "code",
   "execution_count": null,
   "metadata": {},
   "outputs": [],
   "source": [
    "P = []\n",
    "for cl in range(5):\n",
    "\tp = []\n",
    "\tfor dev in D[cl]:\n",
    "\t\tcost = []\n",
    "\t\tfor c in range(5):\n",
    "\t\t\tfor train in C[c]:\n",
    "\t\t\t\tcost.append([DTW(dev, train)[-1,-1], c])\n",
    "\t\tcost = np.array(cost)\n",
    "\t\tidx = cost[:,0].argsort()\n",
    "\t\tcost = cost[idx]\n",
    "\t\tp.append(cost[:, 1])\n",
    "\tP.append(p)"
   ]
  },
  {
   "cell_type": "code",
   "execution_count": null,
   "metadata": {},
   "outputs": [],
   "source": [
    "k = 10\n",
    "Q = []\n",
    "score = []\n",
    "for c in range(5):\n",
    "\tq = []\n",
    "\ts = []\n",
    "\tfor j in range(len(D[c])):\n",
    "\t\tdata = P[c][j][:k]\n",
    "\t\tq.append(statistics.mode(data))\n",
    "\t\ts.append(np.array([(data==0).sum()/k, (data==1).sum()/k, (data==2).sum()/k, (data==3).sum()/k, (data==4).sum()/k]))\n",
    "\tQ.append(q)\n",
    "\tscore.append(s)\n",
    "y_pred = np.concatenate(Q)\n",
    "score = np.concatenate(score)\n"
   ]
  },
  {
   "cell_type": "code",
   "execution_count": null,
   "metadata": {},
   "outputs": [],
   "source": [
    "cm = confusion_matrix(Y_d, y_pred)\n",
    "accuracy = accuracy_score(Y_d,y_pred)\n",
    "ax = sns.heatmap(cm, annot = True, cmap ='plasma',linecolor ='black', linewidths = 1, fmt = '.0f', xticklabels = data_class, yticklabels = data_class)\n",
    "ax.set_title(f'Accuracy = {accuracy}')"
   ]
  },
  {
   "cell_type": "code",
   "execution_count": null,
   "metadata": {},
   "outputs": [],
   "source": [
    "TPR = 0; FPR = 0\n",
    "for c in range(5):\n",
    "\ttpr, fpr = ROC(label_binarize(Y_d, classes=[0,1,2,3,4])[:,c], score[:,c])\n",
    "\tTPR += tpr/5\n",
    "\tFPR += fpr/5\n",
    "plt.plot(FPR, TPR)\n",
    "plt.xlabel('FPR')\n",
    "plt.ylabel('TPR')\n",
    "plt.title(\"ROC\")"
   ]
  }
 ],
 "metadata": {
  "interpreter": {
   "hash": "38740d3277777e2cd7c6c2cc9d8addf5118fdf3f82b1b39231fd12aeac8aee8b"
  },
  "kernelspec": {
   "display_name": "Anaconda (base)",
   "language": "python",
   "name": "python3"
  },
  "language_info": {
   "codemirror_mode": {
    "name": "ipython",
    "version": 3
   },
   "file_extension": ".py",
   "mimetype": "text/x-python",
   "name": "python",
   "nbconvert_exporter": "python",
   "pygments_lexer": "ipython3",
   "version": "3.9.7"
  },
  "orig_nbformat": 4
 },
 "nbformat": 4,
 "nbformat_minor": 2
}
