{
 "cells": [
  {
   "cell_type": "code",
   "execution_count": null,
   "metadata": {},
   "outputs": [],
   "source": [
    "import numpy as np\n",
    "from sklearn.metrics import confusion_matrix, accuracy_score\n",
    "import matplotlib.pyplot as plt\n",
    "import seaborn as sns\n",
    "from sklearn.preprocessing import label_binarize\n",
    "from sklearn import svm\n",
    "from modules.stats import * \n",
    "from modules.PCA import * \n",
    "from modules.LDA import * \n",
    "from modules.read_data import *\n",
    "from modules.ROC import *"
   ]
  },
  {
   "cell_type": "code",
   "execution_count": null,
   "metadata": {},
   "outputs": [],
   "source": [
    "path = '../../Assets/Image Dataset'\n",
    "data_class = ['coast', 'forest', 'highway', 'mountain', 'opencountry']\n",
    "\n",
    "C = [] #36*23\n",
    "D = []\n",
    "\n",
    "for i in data_class:\n",
    "\tC.append(read_ID(path, i, 'train').flatten().reshape(-1, 36*23))\n",
    "\tD.append(read_ID(path, i, 'dev').flatten().reshape(-1, 36*23))"
   ]
  },
  {
   "cell_type": "code",
   "execution_count": null,
   "metadata": {},
   "outputs": [],
   "source": [
    "C_y = []\n",
    "D_y = []\n",
    "\n",
    "for i in range(5):\n",
    "\tC_y.append(i * np.ones(C[i].shape[0]))\n",
    "\tD_y.append(i * np.ones(D[i].shape[0]))"
   ]
  },
  {
   "cell_type": "code",
   "execution_count": null,
   "metadata": {},
   "outputs": [],
   "source": [
    "train = np.concatenate(C, axis=0)\n",
    "dev = np.concatenate(D, axis=0)\n",
    "\n",
    "X = (train - train.min(axis=0))/(train.max(axis=0) - train.min(axis=0))\n",
    "X_d = (dev - dev.min(axis=0))/(dev.max(axis=0) - dev.min(axis=0))\n",
    "Y = np.concatenate(C_y, axis=0)\n",
    "Y_d = np.concatenate(D_y, axis=0)"
   ]
  },
  {
   "cell_type": "code",
   "execution_count": null,
   "metadata": {},
   "outputs": [],
   "source": [
    "pca = False\n",
    "lda = False\n",
    "lda = ~pca & lda #if pca is true then lda is false"
   ]
  },
  {
   "cell_type": "code",
   "execution_count": null,
   "metadata": {},
   "outputs": [],
   "source": [
    "if pca:\n",
    "\tpc = 25\n",
    "\tμ, Σ = stats(X)\n",
    "\teigval, Q = PCA(Σ, pc)\n",
    "\tX = X @ Q\n",
    "\tX_d = X_d @ Q\n",
    "if lda:\n",
    "\tpc = 25\n",
    "\tμ, Σ = stats(X)\n",
    "\tμk = []\n",
    "\tfor c in range(5):\n",
    "\t\tμk.append(stats(X[Y == c])[0])\n",
    "\tμk = np.array(μk)\n",
    "\tv = LDA(X,Y,μ,μk,pc)\n",
    "\tX = np.abs(X @ v)\n",
    "\tX_d = np.abs(X_d @ v)"
   ]
  },
  {
   "cell_type": "code",
   "execution_count": null,
   "metadata": {},
   "outputs": [],
   "source": [
    "clf = svm.SVC(probability=True)\n",
    "clf.fit(X, Y)"
   ]
  },
  {
   "cell_type": "code",
   "execution_count": null,
   "metadata": {},
   "outputs": [],
   "source": [
    "y_pred = clf.predict(X_d)\n",
    "score = clf.predict_proba(X_d)"
   ]
  },
  {
   "cell_type": "code",
   "execution_count": null,
   "metadata": {},
   "outputs": [],
   "source": [
    "cm = confusion_matrix(Y_d, y_pred)\n",
    "accuracy = accuracy_score(Y_d,y_pred)\n",
    "ax = sns.heatmap(cm, annot = True, cmap ='plasma',linecolor ='black', linewidths = 1, fmt = '.0f', xticklabels = data_class, yticklabels = data_class)\n",
    "ax.set_title(f'Accuracy = {accuracy}')"
   ]
  },
  {
   "cell_type": "code",
   "execution_count": null,
   "metadata": {},
   "outputs": [],
   "source": [
    "TPR = 0; FPR = 0\n",
    "for c in range(5):\n",
    "\ttpr, fpr = ROC(label_binarize(Y_d, classes=[0,1,2,3,4])[:,c], score[:,c])\n",
    "\tTPR += tpr/5\n",
    "\tFPR += fpr/5\n",
    "plt.plot(FPR, TPR)\n",
    "plt.xlabel('FPR')\n",
    "plt.ylabel('TPR')\n",
    "plt.title(\"ROC\")"
   ]
  }
 ],
 "metadata": {
  "interpreter": {
   "hash": "38740d3277777e2cd7c6c2cc9d8addf5118fdf3f82b1b39231fd12aeac8aee8b"
  },
  "kernelspec": {
   "display_name": "Python 3.9.7 64-bit",
   "language": "python",
   "name": "python3"
  },
  "language_info": {
   "codemirror_mode": {
    "name": "ipython",
    "version": 3
   },
   "file_extension": ".py",
   "mimetype": "text/x-python",
   "name": "python",
   "nbconvert_exporter": "python",
   "pygments_lexer": "ipython3",
   "version": "3.9.7"
  },
  "orig_nbformat": 4
 },
 "nbformat": 4,
 "nbformat_minor": 2
}
